{
  "cells": [
    {
      "cell_type": "markdown",
      "metadata": {
        "id": "O-MtMR1bmTQ8"
      },
      "source": [
        "CAA 2023-09-08 0103AM"
      ]
    },
    {
      "cell_type": "markdown",
      "metadata": {
        "id": "-GjQVp-hmOKm"
      },
      "source": [
        "# Setting up the requirements:\n",
        "\n",
        "1. Cloning the repository from: https://github.com/ultralytics/yolov5\n",
        "2. Mounting and getting files ready\n"
      ]
    },
    {
      "cell_type": "code",
      "execution_count": 1,
      "metadata": {
        "colab": {
          "base_uri": "https://localhost:8080/"
        },
        "id": "Myvc7zVqlLNX",
        "outputId": "d0ce06ab-7d8e-4bf2-f670-b277aafbd3b8"
      },
      "outputs": [
        {
          "output_type": "stream",
          "name": "stdout",
          "text": [
            "Cloning into 'yolov5'...\n",
            "remote: Enumerating objects: 15967, done.\u001b[K\n",
            "remote: Counting objects: 100% (87/87), done.\u001b[K\n",
            "remote: Compressing objects: 100% (63/63), done.\u001b[K\n",
            "remote: Total 15967 (delta 43), reused 51 (delta 24), pack-reused 15880\u001b[K\n",
            "Receiving objects: 100% (15967/15967), 14.64 MiB | 26.26 MiB/s, done.\n",
            "Resolving deltas: 100% (10942/10942), done.\n",
            "/content/yolov5\n",
            "Collecting gitpython>=3.1.30 (from -r requirements.txt (line 5))\n",
            "  Downloading GitPython-3.1.36-py3-none-any.whl (189 kB)\n",
            "\u001b[2K     \u001b[90m━━━━━━━━━━━━━━━━━━━━━━━━━━━━━━━━━━━━━━━\u001b[0m \u001b[32m189.5/189.5 kB\u001b[0m \u001b[31m4.1 MB/s\u001b[0m eta \u001b[36m0:00:00\u001b[0m\n",
            "\u001b[?25hRequirement already satisfied: matplotlib>=3.3 in /usr/local/lib/python3.10/dist-packages (from -r requirements.txt (line 6)) (3.7.1)\n",
            "Requirement already satisfied: numpy>=1.22.2 in /usr/local/lib/python3.10/dist-packages (from -r requirements.txt (line 7)) (1.23.5)\n",
            "Requirement already satisfied: opencv-python>=4.1.1 in /usr/local/lib/python3.10/dist-packages (from -r requirements.txt (line 8)) (4.8.0.76)\n",
            "Requirement already satisfied: Pillow>=7.1.2 in /usr/local/lib/python3.10/dist-packages (from -r requirements.txt (line 9)) (9.4.0)\n",
            "Requirement already satisfied: psutil in /usr/local/lib/python3.10/dist-packages (from -r requirements.txt (line 10)) (5.9.5)\n",
            "Requirement already satisfied: PyYAML>=5.3.1 in /usr/local/lib/python3.10/dist-packages (from -r requirements.txt (line 11)) (6.0.1)\n",
            "Requirement already satisfied: requests>=2.23.0 in /usr/local/lib/python3.10/dist-packages (from -r requirements.txt (line 12)) (2.31.0)\n",
            "Requirement already satisfied: scipy>=1.4.1 in /usr/local/lib/python3.10/dist-packages (from -r requirements.txt (line 13)) (1.11.2)\n",
            "Collecting thop>=0.1.1 (from -r requirements.txt (line 14))\n",
            "  Downloading thop-0.1.1.post2209072238-py3-none-any.whl (15 kB)\n",
            "Requirement already satisfied: torch>=1.8.0 in /usr/local/lib/python3.10/dist-packages (from -r requirements.txt (line 15)) (2.0.1+cu118)\n",
            "Requirement already satisfied: torchvision>=0.9.0 in /usr/local/lib/python3.10/dist-packages (from -r requirements.txt (line 16)) (0.15.2+cu118)\n",
            "Requirement already satisfied: tqdm>=4.64.0 in /usr/local/lib/python3.10/dist-packages (from -r requirements.txt (line 17)) (4.66.1)\n",
            "Collecting ultralytics>=8.0.147 (from -r requirements.txt (line 18))\n",
            "  Downloading ultralytics-8.0.178-py3-none-any.whl (616 kB)\n",
            "\u001b[2K     \u001b[90m━━━━━━━━━━━━━━━━━━━━━━━━━━━━━━━━━━━━━━━\u001b[0m \u001b[32m616.4/616.4 kB\u001b[0m \u001b[31m9.3 MB/s\u001b[0m eta \u001b[36m0:00:00\u001b[0m\n",
            "\u001b[?25hRequirement already satisfied: pandas>=1.1.4 in /usr/local/lib/python3.10/dist-packages (from -r requirements.txt (line 27)) (1.5.3)\n",
            "Requirement already satisfied: seaborn>=0.11.0 in /usr/local/lib/python3.10/dist-packages (from -r requirements.txt (line 28)) (0.12.2)\n",
            "Requirement already satisfied: setuptools>=65.5.1 in /usr/local/lib/python3.10/dist-packages (from -r requirements.txt (line 42)) (67.7.2)\n",
            "Collecting gitdb<5,>=4.0.1 (from gitpython>=3.1.30->-r requirements.txt (line 5))\n",
            "  Downloading gitdb-4.0.10-py3-none-any.whl (62 kB)\n",
            "\u001b[2K     \u001b[90m━━━━━━━━━━━━━━━━━━━━━━━━━━━━━━━━━━━━━━━━\u001b[0m \u001b[32m62.7/62.7 kB\u001b[0m \u001b[31m6.7 MB/s\u001b[0m eta \u001b[36m0:00:00\u001b[0m\n",
            "\u001b[?25hRequirement already satisfied: contourpy>=1.0.1 in /usr/local/lib/python3.10/dist-packages (from matplotlib>=3.3->-r requirements.txt (line 6)) (1.1.0)\n",
            "Requirement already satisfied: cycler>=0.10 in /usr/local/lib/python3.10/dist-packages (from matplotlib>=3.3->-r requirements.txt (line 6)) (0.11.0)\n",
            "Requirement already satisfied: fonttools>=4.22.0 in /usr/local/lib/python3.10/dist-packages (from matplotlib>=3.3->-r requirements.txt (line 6)) (4.42.1)\n",
            "Requirement already satisfied: kiwisolver>=1.0.1 in /usr/local/lib/python3.10/dist-packages (from matplotlib>=3.3->-r requirements.txt (line 6)) (1.4.5)\n",
            "Requirement already satisfied: packaging>=20.0 in /usr/local/lib/python3.10/dist-packages (from matplotlib>=3.3->-r requirements.txt (line 6)) (23.1)\n",
            "Requirement already satisfied: pyparsing>=2.3.1 in /usr/local/lib/python3.10/dist-packages (from matplotlib>=3.3->-r requirements.txt (line 6)) (3.1.1)\n",
            "Requirement already satisfied: python-dateutil>=2.7 in /usr/local/lib/python3.10/dist-packages (from matplotlib>=3.3->-r requirements.txt (line 6)) (2.8.2)\n",
            "Requirement already satisfied: charset-normalizer<4,>=2 in /usr/local/lib/python3.10/dist-packages (from requests>=2.23.0->-r requirements.txt (line 12)) (3.2.0)\n",
            "Requirement already satisfied: idna<4,>=2.5 in /usr/local/lib/python3.10/dist-packages (from requests>=2.23.0->-r requirements.txt (line 12)) (3.4)\n",
            "Requirement already satisfied: urllib3<3,>=1.21.1 in /usr/local/lib/python3.10/dist-packages (from requests>=2.23.0->-r requirements.txt (line 12)) (2.0.4)\n",
            "Requirement already satisfied: certifi>=2017.4.17 in /usr/local/lib/python3.10/dist-packages (from requests>=2.23.0->-r requirements.txt (line 12)) (2023.7.22)\n",
            "Requirement already satisfied: filelock in /usr/local/lib/python3.10/dist-packages (from torch>=1.8.0->-r requirements.txt (line 15)) (3.12.2)\n",
            "Requirement already satisfied: typing-extensions in /usr/local/lib/python3.10/dist-packages (from torch>=1.8.0->-r requirements.txt (line 15)) (4.5.0)\n",
            "Requirement already satisfied: sympy in /usr/local/lib/python3.10/dist-packages (from torch>=1.8.0->-r requirements.txt (line 15)) (1.12)\n",
            "Requirement already satisfied: networkx in /usr/local/lib/python3.10/dist-packages (from torch>=1.8.0->-r requirements.txt (line 15)) (3.1)\n",
            "Requirement already satisfied: jinja2 in /usr/local/lib/python3.10/dist-packages (from torch>=1.8.0->-r requirements.txt (line 15)) (3.1.2)\n",
            "Requirement already satisfied: triton==2.0.0 in /usr/local/lib/python3.10/dist-packages (from torch>=1.8.0->-r requirements.txt (line 15)) (2.0.0)\n",
            "Requirement already satisfied: cmake in /usr/local/lib/python3.10/dist-packages (from triton==2.0.0->torch>=1.8.0->-r requirements.txt (line 15)) (3.27.4.1)\n",
            "Requirement already satisfied: lit in /usr/local/lib/python3.10/dist-packages (from triton==2.0.0->torch>=1.8.0->-r requirements.txt (line 15)) (16.0.6)\n",
            "Requirement already satisfied: py-cpuinfo in /usr/local/lib/python3.10/dist-packages (from ultralytics>=8.0.147->-r requirements.txt (line 18)) (9.0.0)\n",
            "Requirement already satisfied: pytz>=2020.1 in /usr/local/lib/python3.10/dist-packages (from pandas>=1.1.4->-r requirements.txt (line 27)) (2023.3.post1)\n",
            "Collecting smmap<6,>=3.0.1 (from gitdb<5,>=4.0.1->gitpython>=3.1.30->-r requirements.txt (line 5))\n",
            "  Downloading smmap-5.0.0-py3-none-any.whl (24 kB)\n",
            "Requirement already satisfied: six>=1.5 in /usr/local/lib/python3.10/dist-packages (from python-dateutil>=2.7->matplotlib>=3.3->-r requirements.txt (line 6)) (1.16.0)\n",
            "Requirement already satisfied: MarkupSafe>=2.0 in /usr/local/lib/python3.10/dist-packages (from jinja2->torch>=1.8.0->-r requirements.txt (line 15)) (2.1.3)\n",
            "Requirement already satisfied: mpmath>=0.19 in /usr/local/lib/python3.10/dist-packages (from sympy->torch>=1.8.0->-r requirements.txt (line 15)) (1.3.0)\n",
            "Installing collected packages: smmap, gitdb, gitpython, ultralytics, thop\n",
            "Successfully installed gitdb-4.0.10 gitpython-3.1.36 smmap-5.0.0 thop-0.1.1.post2209072238 ultralytics-8.0.178\n"
          ]
        }
      ],
      "source": [
        "#clone YOLOv5 and\n",
        "!git clone https://github.com/ultralytics/yolov5  # clone repo\n",
        "\n",
        "# Change the current directory to the YOLOv5 repository and install dependencies\n",
        "%cd yolov5\n",
        "!pip install -r requirements.txt  # install"
      ]
    },
    {
      "cell_type": "code",
      "execution_count": 2,
      "metadata": {
        "id": "gytb2BpxkR2S"
      },
      "outputs": [],
      "source": [
        "# set up environment\n",
        "import os\n",
        "os.environ[\"DATASET_DIRECTORY\"] = \"/content/datasets\"\n",
        "os.environ['QT_QPA_PLATFORM'] = 'offscreen'\n",
        "import cv2"
      ]
    },
    {
      "cell_type": "code",
      "execution_count": 3,
      "metadata": {
        "colab": {
          "base_uri": "https://localhost:8080/"
        },
        "id": "crMEvlxsnP_B",
        "outputId": "725a57a2-4c3f-4803-8230-5023484b6858"
      },
      "outputs": [
        {
          "output_type": "stream",
          "name": "stdout",
          "text": [
            "Mounted at /content/drive\n"
          ]
        }
      ],
      "source": [
        "# Mount drive\n",
        "from google.colab import drive\n",
        "drive.mount('/content/drive')"
      ]
    },
    {
      "cell_type": "code",
      "execution_count": 4,
      "metadata": {
        "colab": {
          "base_uri": "https://localhost:8080/"
        },
        "id": "lshTGmEBiaoK",
        "outputId": "fe5a02d0-0b64-40ef-d269-7c2cda61dcc5"
      },
      "outputs": [
        {
          "output_type": "stream",
          "name": "stdout",
          "text": [
            "/content/yolov5\n"
          ]
        }
      ],
      "source": [
        "print(os.getcwd())"
      ]
    },
    {
      "cell_type": "code",
      "execution_count": 5,
      "metadata": {
        "id": "Uplj8x0doZYh"
      },
      "outputs": [],
      "source": [
        "# Copy dataset over and extract zip\n",
        "!cp \"/content/drive/MyDrive/MDP/Task 1 pics.v4i.yolov5pytorch.zip\" \"task1.zip\""
      ]
    },
    {
      "cell_type": "code",
      "execution_count": 6,
      "metadata": {
        "id": "tOC0ROd5TYb1"
      },
      "outputs": [],
      "source": [
        "# Copy new YAML in\n",
        "!cp \"/content/drive/MyDrive/MDP/custom-hyp.yaml\" \"custom-hyp.yaml\""
      ]
    },
    {
      "cell_type": "code",
      "execution_count": 7,
      "metadata": {
        "id": "eTuOTsMB9CSp"
      },
      "outputs": [],
      "source": [
        "!unzip -q task1.zip"
      ]
    },
    {
      "cell_type": "markdown",
      "metadata": {
        "id": "QE0Du4wfiexm"
      },
      "source": [
        "# Train Our Custom YOLOv5 model\n",
        "Here, we are able to pass a number of arguments:\n",
        "\n",
        "img: define input image size\n",
        "batch: determine batch size\n",
        "epochs: define the number of training epochs. (Note: often, 3000+ are common here!)\n",
        "data: Our dataset locaiton is saved in the dataset.location\n",
        "weights: specify a path to weights to start transfer learning from. Here we choose the generic COCO pretrained checkpoint.\n",
        "cache: cache images for faster training\n",
        "hyp: hyperparameters to use"
      ]
    },
    {
      "cell_type": "code",
      "execution_count": 8,
      "metadata": {
        "colab": {
          "base_uri": "https://localhost:8080/"
        },
        "id": "l1S8ufDq4Vef",
        "outputId": "691022fc-a0a6-4965-b931-06183aa956e9"
      },
      "outputs": [
        {
          "output_type": "stream",
          "name": "stdout",
          "text": [
            "Setup complete. Using torch 2.0.1+cu118 _CudaDeviceProperties(name='Tesla T4', major=7, minor=5, total_memory=15101MB, multi_processor_count=40)\n"
          ]
        }
      ],
      "source": [
        "import torch\n",
        "\n",
        "from IPython.display import Image, clear_output  # to display images\n",
        "from utils.downloads import attempt_download  # to download models/datasets\n",
        "\n",
        "# clear_output()\n",
        "print('Setup complete. Using torch %s %s' % (torch.__version__, torch.cuda.get_device_properties(0) if torch.cuda.is_available() else 'CPU'))"
      ]
    },
    {
      "cell_type": "code",
      "execution_count": 9,
      "metadata": {
        "id": "uVwio5RGxEnb"
      },
      "outputs": [],
      "source": [
        "!cd data/"
      ]
    },
    {
      "cell_type": "code",
      "execution_count": 10,
      "metadata": {
        "colab": {
          "base_uri": "https://localhost:8080/"
        },
        "id": "3DmsYpAnxFCt",
        "outputId": "9f75f0fc-d99c-40cc-f0ea-6f19afa3e87e"
      },
      "outputs": [
        {
          "output_type": "stream",
          "name": "stdout",
          "text": [
            "hyp.no-augmentation.yaml  hyp.scratch-high.yaml  hyp.scratch-med.yaml\n",
            "hyp.Objects365.yaml\t  hyp.scratch-low.yaml\t hyp.VOC.yaml\n"
          ]
        }
      ],
      "source": [
        "!ls data/hyps/"
      ]
    },
    {
      "cell_type": "code",
      "execution_count": 11,
      "metadata": {
        "colab": {
          "base_uri": "https://localhost:8080/"
        },
        "id": "Y3TMsXpCxEwS",
        "outputId": "dec23597-94f2-4366-d1c2-8b460e27fd18"
      },
      "outputs": [
        {
          "output_type": "stream",
          "name": "stdout",
          "text": [
            "# YOLOv5 🚀 by Ultralytics, AGPL-3.0 license\n",
            "# Hyperparameters for high-augmentation COCO training from scratch\n",
            "# python train.py --batch 32 --cfg yolov5m6.yaml --weights '' --data coco.yaml --img 1280 --epochs 300\n",
            "# See tutorials for hyperparameter evolution https://github.com/ultralytics/yolov5#tutorials\n",
            "\n",
            "lr0: 0.01  # initial learning rate (SGD=1E-2, Adam=1E-3)\n",
            "lrf: 0.1  # final OneCycleLR learning rate (lr0 * lrf)\n",
            "momentum: 0.937  # SGD momentum/Adam beta1\n",
            "weight_decay: 0.0005  # optimizer weight decay 5e-4\n",
            "warmup_epochs: 3.0  # warmup epochs (fractions ok)\n",
            "warmup_momentum: 0.8  # warmup initial momentum\n",
            "warmup_bias_lr: 0.1  # warmup initial bias lr\n",
            "box: 0.05  # box loss gain\n",
            "cls: 0.3  # cls loss gain\n",
            "cls_pw: 1.0  # cls BCELoss positive_weight\n",
            "obj: 0.7  # obj loss gain (scale with pixels)\n",
            "obj_pw: 1.0  # obj BCELoss positive_weight\n",
            "iou_t: 0.20  # IoU training threshold\n",
            "anchor_t: 4.0  # anchor-multiple threshold\n",
            "# anchors: 3  # anchors per output layer (0 to ignore)\n",
            "fl_gamma: 0.0  # focal loss gamma (efficientDet default gamma=1.5)\n",
            "hsv_h: 0.015  # image HSV-Hue augmentation (fraction)\n",
            "hsv_s: 0.7  # image HSV-Saturation augmentation (fraction)\n",
            "hsv_v: 0.4  # image HSV-Value augmentation (fraction)\n",
            "degrees: 0.0  # image rotation (+/- deg)\n",
            "translate: 0.1  # image translation (+/- fraction)\n",
            "scale: 0.9  # image scale (+/- gain)\n",
            "shear: 0.0  # image shear (+/- deg)\n",
            "perspective: 0.0  # image perspective (+/- fraction), range 0-0.001\n",
            "flipud: 0.0  # image flip up-down (probability)\n",
            "fliplr: 0.0  # image flip left-right (probability) THIS CHANGED\n",
            "mosaic: 1.0  # image mosaic (probability)\n",
            "mixup: 0.1  # image mixup (probability)\n",
            "copy_paste: 0.1  # segment copy-paste (probability)"
          ]
        }
      ],
      "source": [
        "cat custom-hyp.yaml"
      ]
    },
    {
      "cell_type": "code",
      "execution_count": 12,
      "metadata": {
        "colab": {
          "base_uri": "https://localhost:8080/"
        },
        "id": "8saKvuWCkt5a",
        "outputId": "88c6b45f-a075-48e7-95a1-865430ee11a2"
      },
      "outputs": [
        {
          "output_type": "stream",
          "name": "stdout",
          "text": [
            "\u001b[34m\u001b[1mtrain: \u001b[0mweights=yolov5s.pt, cfg=, data=data.yaml, hyp=custom-hyp.yaml, epochs=50, batch_size=16, imgsz=416, rect=False, resume=False, nosave=False, noval=False, noautoanchor=False, noplots=False, evolve=None, bucket=, cache=ram, image_weights=False, device=, multi_scale=False, single_cls=False, optimizer=SGD, sync_bn=False, workers=8, project=runs/train, name=exp, exist_ok=False, quad=False, cos_lr=False, label_smoothing=0.0, patience=100, freeze=[0], save_period=-1, seed=0, local_rank=-1, entity=None, upload_dataset=False, bbox_interval=-1, artifact_alias=latest\n",
            "\u001b[34m\u001b[1mgithub: \u001b[0mup to date with https://github.com/ultralytics/yolov5 ✅\n",
            "YOLOv5 🚀 v7.0-218-g9e97ac3 Python-3.10.12 torch-2.0.1+cu118 CUDA:0 (Tesla T4, 15102MiB)\n",
            "\n",
            "\u001b[34m\u001b[1mhyperparameters: \u001b[0mlr0=0.01, lrf=0.1, momentum=0.937, weight_decay=0.0005, warmup_epochs=3.0, warmup_momentum=0.8, warmup_bias_lr=0.1, box=0.05, cls=0.3, cls_pw=1.0, obj=0.7, obj_pw=1.0, iou_t=0.2, anchor_t=4.0, fl_gamma=0.0, hsv_h=0.015, hsv_s=0.7, hsv_v=0.4, degrees=0.0, translate=0.1, scale=0.9, shear=0.0, perspective=0.0, flipud=0.0, fliplr=0.0, mosaic=1.0, mixup=0.1, copy_paste=0.1\n",
            "\u001b[34m\u001b[1mComet: \u001b[0mrun 'pip install comet_ml' to automatically track and visualize YOLOv5 🚀 runs in Comet\n",
            "\u001b[34m\u001b[1mTensorBoard: \u001b[0mStart with 'tensorboard --logdir runs/train', view at http://localhost:6006/\n",
            "Downloading https://ultralytics.com/assets/Arial.ttf to /root/.config/Ultralytics/Arial.ttf...\n",
            "100% 755k/755k [00:00<00:00, 17.3MB/s]\n",
            "Downloading https://github.com/ultralytics/yolov5/releases/download/v7.0/yolov5s.pt to yolov5s.pt...\n",
            "100% 14.1M/14.1M [00:00<00:00, 133MB/s]\n",
            "\n",
            "Overriding model.yaml nc=80 with nc=31\n",
            "\n",
            "                 from  n    params  module                                  arguments                     \n",
            "  0                -1  1      3520  models.common.Conv                      [3, 32, 6, 2, 2]              \n",
            "  1                -1  1     18560  models.common.Conv                      [32, 64, 3, 2]                \n",
            "  2                -1  1     18816  models.common.C3                        [64, 64, 1]                   \n",
            "  3                -1  1     73984  models.common.Conv                      [64, 128, 3, 2]               \n",
            "  4                -1  2    115712  models.common.C3                        [128, 128, 2]                 \n",
            "  5                -1  1    295424  models.common.Conv                      [128, 256, 3, 2]              \n",
            "  6                -1  3    625152  models.common.C3                        [256, 256, 3]                 \n",
            "  7                -1  1   1180672  models.common.Conv                      [256, 512, 3, 2]              \n",
            "  8                -1  1   1182720  models.common.C3                        [512, 512, 1]                 \n",
            "  9                -1  1    656896  models.common.SPPF                      [512, 512, 5]                 \n",
            " 10                -1  1    131584  models.common.Conv                      [512, 256, 1, 1]              \n",
            " 11                -1  1         0  torch.nn.modules.upsampling.Upsample    [None, 2, 'nearest']          \n",
            " 12           [-1, 6]  1         0  models.common.Concat                    [1]                           \n",
            " 13                -1  1    361984  models.common.C3                        [512, 256, 1, False]          \n",
            " 14                -1  1     33024  models.common.Conv                      [256, 128, 1, 1]              \n",
            " 15                -1  1         0  torch.nn.modules.upsampling.Upsample    [None, 2, 'nearest']          \n",
            " 16           [-1, 4]  1         0  models.common.Concat                    [1]                           \n",
            " 17                -1  1     90880  models.common.C3                        [256, 128, 1, False]          \n",
            " 18                -1  1    147712  models.common.Conv                      [128, 128, 3, 2]              \n",
            " 19          [-1, 14]  1         0  models.common.Concat                    [1]                           \n",
            " 20                -1  1    296448  models.common.C3                        [256, 256, 1, False]          \n",
            " 21                -1  1    590336  models.common.Conv                      [256, 256, 3, 2]              \n",
            " 22          [-1, 10]  1         0  models.common.Concat                    [1]                           \n",
            " 23                -1  1   1182720  models.common.C3                        [512, 512, 1, False]          \n",
            " 24      [17, 20, 23]  1     97092  models.yolo.Detect                      [31, [[10, 13, 16, 30, 33, 23], [30, 61, 62, 45, 59, 119], [116, 90, 156, 198, 373, 326]], [128, 256, 512]]\n",
            "Model summary: 214 layers, 7103236 parameters, 7103236 gradients, 16.2 GFLOPs\n",
            "\n",
            "Transferred 343/349 items from yolov5s.pt\n",
            "\u001b[34m\u001b[1mAMP: \u001b[0mchecks passed ✅\n",
            "\u001b[34m\u001b[1moptimizer:\u001b[0m SGD(lr=0.01) with parameter groups 57 weight(decay=0.0), 60 weight(decay=0.0005), 60 bias\n",
            "\u001b[34m\u001b[1malbumentations: \u001b[0mBlur(p=0.01, blur_limit=(3, 7)), MedianBlur(p=0.01, blur_limit=(3, 7)), ToGray(p=0.01), CLAHE(p=0.01, clip_limit=(1, 4.0), tile_grid_size=(8, 8))\n",
            "\u001b[34m\u001b[1mtrain: \u001b[0mScanning /content/yolov5/train/labels... 14535 images, 0 backgrounds, 0 corrupt: 100% 14535/14535 [00:09<00:00, 1501.48it/s]\n",
            "\u001b[34m\u001b[1mtrain: \u001b[0mNew cache created: /content/yolov5/train/labels.cache\n",
            "\u001b[34m\u001b[1mtrain: \u001b[0mCaching images (5.0GB ram): 100% 14535/14535 [01:05<00:00, 223.59it/s]\n",
            "\u001b[34m\u001b[1mval: \u001b[0mScanning /content/yolov5/valid/labels... 1360 images, 0 backgrounds, 0 corrupt: 100% 1360/1360 [00:01<00:00, 768.17it/s] \n",
            "\u001b[34m\u001b[1mval: \u001b[0mNew cache created: /content/yolov5/valid/labels.cache\n",
            "\u001b[34m\u001b[1mval: \u001b[0mCaching images (0.5GB ram): 100% 1360/1360 [00:10<00:00, 134.40it/s]\n",
            "\n",
            "\u001b[34m\u001b[1mAutoAnchor: \u001b[0m5.58 anchors/target, 1.000 Best Possible Recall (BPR). Current anchors are a good fit to dataset ✅\n",
            "Plotting labels to runs/train/exp/labels.jpg... \n",
            "Image sizes 416 train, 416 val\n",
            "Using 2 dataloader workers\n",
            "Logging results to \u001b[1mruns/train/exp\u001b[0m\n",
            "Starting training for 50 epochs...\n",
            "\n",
            "      Epoch    GPU_mem   box_loss   obj_loss   cls_loss  Instances       Size\n",
            "       0/49      1.56G    0.06015    0.01232    0.04802         11        416: 100% 909/909 [02:23<00:00,  6.35it/s]\n",
            "                 Class     Images  Instances          P          R      mAP50   mAP50-95: 100% 43/43 [00:11<00:00,  3.79it/s]\n",
            "                   all       1360       1398      0.375     0.0774     0.0602     0.0345\n",
            "\n",
            "      Epoch    GPU_mem   box_loss   obj_loss   cls_loss  Instances       Size\n",
            "       1/49      1.72G     0.0371    0.00747    0.04169         18        416: 100% 909/909 [02:15<00:00,  6.69it/s]\n",
            "                 Class     Images  Instances          P          R      mAP50   mAP50-95: 100% 43/43 [00:09<00:00,  4.58it/s]\n",
            "                   all       1360       1398      0.725      0.117      0.117     0.0718\n",
            "\n",
            "      Epoch    GPU_mem   box_loss   obj_loss   cls_loss  Instances       Size\n",
            "       2/49      1.72G    0.03457   0.005792    0.03581         19        416: 100% 909/909 [02:11<00:00,  6.94it/s]\n",
            "                 Class     Images  Instances          P          R      mAP50   mAP50-95: 100% 43/43 [00:09<00:00,  4.39it/s]\n",
            "                   all       1360       1398      0.952      0.115       0.21      0.149\n",
            "\n",
            "      Epoch    GPU_mem   box_loss   obj_loss   cls_loss  Instances       Size\n",
            "       3/49      1.72G    0.03103   0.005143    0.03064         16        416: 100% 909/909 [02:12<00:00,  6.85it/s]\n",
            "                 Class     Images  Instances          P          R      mAP50   mAP50-95: 100% 43/43 [00:08<00:00,  5.17it/s]\n",
            "                   all       1360       1398      0.526      0.307      0.355      0.253\n",
            "\n",
            "      Epoch    GPU_mem   box_loss   obj_loss   cls_loss  Instances       Size\n",
            "       4/49      1.72G    0.02839   0.004837    0.02688         18        416: 100% 909/909 [02:12<00:00,  6.85it/s]\n",
            "                 Class     Images  Instances          P          R      mAP50   mAP50-95: 100% 43/43 [00:09<00:00,  4.51it/s]\n",
            "                   all       1360       1398       0.56      0.524      0.585      0.424\n",
            "\n",
            "      Epoch    GPU_mem   box_loss   obj_loss   cls_loss  Instances       Size\n",
            "       5/49      1.72G    0.02747   0.004644    0.02268         18        416: 100% 909/909 [02:10<00:00,  6.94it/s]\n",
            "                 Class     Images  Instances          P          R      mAP50   mAP50-95: 100% 43/43 [00:09<00:00,  4.48it/s]\n",
            "                   all       1360       1398      0.837      0.655      0.773       0.55\n",
            "\n",
            "      Epoch    GPU_mem   box_loss   obj_loss   cls_loss  Instances       Size\n",
            "       6/49      1.72G    0.02692   0.004482    0.01836         14        416: 100% 909/909 [02:12<00:00,  6.84it/s]\n",
            "                 Class     Images  Instances          P          R      mAP50   mAP50-95: 100% 43/43 [00:08<00:00,  5.17it/s]\n",
            "                   all       1360       1398      0.889      0.815      0.876      0.637\n",
            "\n",
            "      Epoch    GPU_mem   box_loss   obj_loss   cls_loss  Instances       Size\n",
            "       7/49      1.72G    0.02655   0.004409     0.0147         20        416: 100% 909/909 [02:12<00:00,  6.85it/s]\n",
            "                 Class     Images  Instances          P          R      mAP50   mAP50-95: 100% 43/43 [00:09<00:00,  4.55it/s]\n",
            "                   all       1360       1398      0.923      0.894      0.925        0.7\n",
            "\n",
            "      Epoch    GPU_mem   box_loss   obj_loss   cls_loss  Instances       Size\n",
            "       8/49      1.72G    0.02626   0.004341    0.01216         24        416: 100% 909/909 [02:10<00:00,  6.99it/s]\n",
            "                 Class     Images  Instances          P          R      mAP50   mAP50-95: 100% 43/43 [00:09<00:00,  4.45it/s]\n",
            "                   all       1360       1398      0.938      0.915       0.95      0.728\n",
            "\n",
            "      Epoch    GPU_mem   box_loss   obj_loss   cls_loss  Instances       Size\n",
            "       9/49      1.72G    0.02602   0.004289    0.01055         18        416: 100% 909/909 [02:12<00:00,  6.85it/s]\n",
            "                 Class     Images  Instances          P          R      mAP50   mAP50-95: 100% 43/43 [00:08<00:00,  5.15it/s]\n",
            "                   all       1360       1398       0.91      0.958      0.971      0.744\n",
            "\n",
            "      Epoch    GPU_mem   box_loss   obj_loss   cls_loss  Instances       Size\n",
            "      10/49      1.72G    0.02516   0.004154   0.008971         14        416: 100% 909/909 [02:12<00:00,  6.85it/s]\n",
            "                 Class     Images  Instances          P          R      mAP50   mAP50-95: 100% 43/43 [00:09<00:00,  4.58it/s]\n",
            "                   all       1360       1398      0.956      0.965      0.984       0.77\n",
            "\n",
            "      Epoch    GPU_mem   box_loss   obj_loss   cls_loss  Instances       Size\n",
            "      11/49      1.72G    0.02495   0.004105   0.008025         20        416: 100% 909/909 [02:10<00:00,  6.96it/s]\n",
            "                 Class     Images  Instances          P          R      mAP50   mAP50-95: 100% 43/43 [00:09<00:00,  4.41it/s]\n",
            "                   all       1360       1398      0.969      0.982       0.99      0.783\n",
            "\n",
            "      Epoch    GPU_mem   box_loss   obj_loss   cls_loss  Instances       Size\n",
            "      12/49      1.72G    0.02448   0.004106   0.007148         11        416: 100% 909/909 [02:12<00:00,  6.85it/s]\n",
            "                 Class     Images  Instances          P          R      mAP50   mAP50-95: 100% 43/43 [00:08<00:00,  5.16it/s]\n",
            "                   all       1360       1398      0.989      0.982      0.993      0.796\n",
            "\n",
            "      Epoch    GPU_mem   box_loss   obj_loss   cls_loss  Instances       Size\n",
            "      13/49      1.72G    0.02402   0.004049   0.006375         16        416: 100% 909/909 [02:13<00:00,  6.83it/s]\n",
            "                 Class     Images  Instances          P          R      mAP50   mAP50-95: 100% 43/43 [00:09<00:00,  4.47it/s]\n",
            "                   all       1360       1398      0.988      0.993      0.994      0.798\n",
            "\n",
            "      Epoch    GPU_mem   box_loss   obj_loss   cls_loss  Instances       Size\n",
            "      14/49      1.72G    0.02349   0.003952   0.005801         18        416: 100% 909/909 [02:11<00:00,  6.90it/s]\n",
            "                 Class     Images  Instances          P          R      mAP50   mAP50-95: 100% 43/43 [00:09<00:00,  4.49it/s]\n",
            "                   all       1360       1398      0.991      0.994      0.994      0.814\n",
            "\n",
            "      Epoch    GPU_mem   box_loss   obj_loss   cls_loss  Instances       Size\n",
            "      15/49      1.72G    0.02304   0.003938   0.005501         14        416: 100% 909/909 [02:12<00:00,  6.84it/s]\n",
            "                 Class     Images  Instances          P          R      mAP50   mAP50-95: 100% 43/43 [00:08<00:00,  5.19it/s]\n",
            "                   all       1360       1398      0.991      0.992      0.992      0.815\n",
            "\n",
            "      Epoch    GPU_mem   box_loss   obj_loss   cls_loss  Instances       Size\n",
            "      16/49      1.72G    0.02284   0.003906   0.005072         14        416: 100% 909/909 [02:11<00:00,  6.89it/s]\n",
            "                 Class     Images  Instances          P          R      mAP50   mAP50-95: 100% 43/43 [00:09<00:00,  4.38it/s]\n",
            "                   all       1360       1398      0.992      0.995      0.994      0.822\n",
            "\n",
            "      Epoch    GPU_mem   box_loss   obj_loss   cls_loss  Instances       Size\n",
            "      17/49      1.72G    0.02254   0.003844   0.004779         22        416: 100% 909/909 [02:13<00:00,  6.81it/s]\n",
            "                 Class     Images  Instances          P          R      mAP50   mAP50-95: 100% 43/43 [00:09<00:00,  4.69it/s]\n",
            "                   all       1360       1398      0.992      0.995      0.993       0.82\n",
            "\n",
            "      Epoch    GPU_mem   box_loss   obj_loss   cls_loss  Instances       Size\n",
            "      18/49      1.72G    0.02223   0.003823   0.004539         16        416: 100% 909/909 [02:12<00:00,  6.85it/s]\n",
            "                 Class     Images  Instances          P          R      mAP50   mAP50-95: 100% 43/43 [00:08<00:00,  4.92it/s]\n",
            "                   all       1360       1398      0.991      0.995      0.994      0.828\n",
            "\n",
            "      Epoch    GPU_mem   box_loss   obj_loss   cls_loss  Instances       Size\n",
            "      19/49      1.72G    0.02184   0.003791   0.004565          9        416: 100% 909/909 [02:14<00:00,  6.77it/s]\n",
            "                 Class     Images  Instances          P          R      mAP50   mAP50-95: 100% 43/43 [00:09<00:00,  4.42it/s]\n",
            "                   all       1360       1398      0.993      0.997      0.995      0.831\n",
            "\n",
            "      Epoch    GPU_mem   box_loss   obj_loss   cls_loss  Instances       Size\n",
            "      20/49      1.72G    0.02167    0.00372   0.004307         19        416: 100% 909/909 [02:12<00:00,  6.85it/s]\n",
            "                 Class     Images  Instances          P          R      mAP50   mAP50-95: 100% 43/43 [00:08<00:00,  4.93it/s]\n",
            "                   all       1360       1398       0.99      0.997      0.995      0.826\n",
            "\n",
            "      Epoch    GPU_mem   box_loss   obj_loss   cls_loss  Instances       Size\n",
            "      21/49      1.72G     0.0211     0.0037   0.003934         15        416: 100% 909/909 [02:13<00:00,  6.83it/s]\n",
            "                 Class     Images  Instances          P          R      mAP50   mAP50-95: 100% 43/43 [00:09<00:00,  4.69it/s]\n",
            "                   all       1360       1398      0.994      0.997      0.995      0.842\n",
            "\n",
            "      Epoch    GPU_mem   box_loss   obj_loss   cls_loss  Instances       Size\n",
            "      22/49      1.72G    0.02096   0.003683   0.003888         12        416: 100% 909/909 [02:11<00:00,  6.90it/s]\n",
            "                 Class     Images  Instances          P          R      mAP50   mAP50-95: 100% 43/43 [00:09<00:00,  4.47it/s]\n",
            "                   all       1360       1398      0.993      0.997      0.994      0.841\n",
            "\n",
            "      Epoch    GPU_mem   box_loss   obj_loss   cls_loss  Instances       Size\n",
            "      23/49      1.72G    0.02084    0.00368   0.003751         11        416: 100% 909/909 [02:11<00:00,  6.89it/s]\n",
            "                 Class     Images  Instances          P          R      mAP50   mAP50-95: 100% 43/43 [00:09<00:00,  4.74it/s]\n",
            "                   all       1360       1398      0.992      0.997      0.995      0.843\n",
            "\n",
            "      Epoch    GPU_mem   box_loss   obj_loss   cls_loss  Instances       Size\n",
            "      24/49      1.72G    0.02042   0.003613   0.003666         19        416: 100% 909/909 [02:13<00:00,  6.81it/s]\n",
            "                 Class     Images  Instances          P          R      mAP50   mAP50-95: 100% 43/43 [00:09<00:00,  4.61it/s]\n",
            "                   all       1360       1398      0.994      0.998      0.995      0.843\n",
            "\n",
            "      Epoch    GPU_mem   box_loss   obj_loss   cls_loss  Instances       Size\n",
            "      25/49      1.72G    0.02036   0.003627   0.003511          8        416: 100% 909/909 [02:11<00:00,  6.89it/s]\n",
            "                 Class     Images  Instances          P          R      mAP50   mAP50-95: 100% 43/43 [00:09<00:00,  4.50it/s]\n",
            "                   all       1360       1398      0.995      0.997      0.995      0.848\n",
            "\n",
            "      Epoch    GPU_mem   box_loss   obj_loss   cls_loss  Instances       Size\n",
            "      26/49      1.72G    0.02007   0.003544   0.003402         11        416: 100% 909/909 [02:13<00:00,  6.81it/s]\n",
            "                 Class     Images  Instances          P          R      mAP50   mAP50-95: 100% 43/43 [00:08<00:00,  5.12it/s]\n",
            "                   all       1360       1398      0.995      0.997      0.995      0.849\n",
            "\n",
            "      Epoch    GPU_mem   box_loss   obj_loss   cls_loss  Instances       Size\n",
            "      27/49      1.72G    0.01977    0.00354   0.003318         14        416: 100% 909/909 [02:13<00:00,  6.81it/s]\n",
            "                 Class     Images  Instances          P          R      mAP50   mAP50-95: 100% 43/43 [00:09<00:00,  4.58it/s]\n",
            "                   all       1360       1398      0.994      0.998      0.995      0.851\n",
            "\n",
            "      Epoch    GPU_mem   box_loss   obj_loss   cls_loss  Instances       Size\n",
            "      28/49      1.72G    0.01946   0.003519   0.003257         19        416: 100% 909/909 [02:11<00:00,  6.92it/s]\n",
            "                 Class     Images  Instances          P          R      mAP50   mAP50-95: 100% 43/43 [00:09<00:00,  4.42it/s]\n",
            "                   all       1360       1398      0.994      0.997      0.995      0.854\n",
            "\n",
            "      Epoch    GPU_mem   box_loss   obj_loss   cls_loss  Instances       Size\n",
            "      29/49      1.72G     0.0192    0.00347   0.003069         12        416: 100% 909/909 [02:13<00:00,  6.80it/s]\n",
            "                 Class     Images  Instances          P          R      mAP50   mAP50-95: 100% 43/43 [00:08<00:00,  5.17it/s]\n",
            "                   all       1360       1398      0.993      0.998      0.995      0.853\n",
            "\n",
            "      Epoch    GPU_mem   box_loss   obj_loss   cls_loss  Instances       Size\n",
            "      30/49      1.72G    0.01908   0.003465    0.00306         13        416: 100% 909/909 [02:14<00:00,  6.77it/s]\n",
            "                 Class     Images  Instances          P          R      mAP50   mAP50-95: 100% 43/43 [00:09<00:00,  4.50it/s]\n",
            "                   all       1360       1398      0.994      0.998      0.995      0.856\n",
            "\n",
            "      Epoch    GPU_mem   box_loss   obj_loss   cls_loss  Instances       Size\n",
            "      31/49      1.72G    0.01892    0.00345   0.002972         19        416: 100% 909/909 [02:12<00:00,  6.84it/s]\n",
            "                 Class     Images  Instances          P          R      mAP50   mAP50-95: 100% 43/43 [00:09<00:00,  4.65it/s]\n",
            "                   all       1360       1398      0.993      0.998      0.995       0.86\n",
            "\n",
            "      Epoch    GPU_mem   box_loss   obj_loss   cls_loss  Instances       Size\n",
            "      32/49      1.72G    0.01848   0.003366   0.002898         29        416: 100% 909/909 [02:13<00:00,  6.83it/s]\n",
            "                 Class     Images  Instances          P          R      mAP50   mAP50-95: 100% 43/43 [00:09<00:00,  4.77it/s]\n",
            "                   all       1360       1398      0.994      0.998      0.995      0.857\n",
            "\n",
            "      Epoch    GPU_mem   box_loss   obj_loss   cls_loss  Instances       Size\n",
            "      33/49      1.72G    0.01839   0.003374    0.00273         13        416: 100% 909/909 [02:12<00:00,  6.89it/s]\n",
            "                 Class     Images  Instances          P          R      mAP50   mAP50-95: 100% 43/43 [00:09<00:00,  4.42it/s]\n",
            "                   all       1360       1398      0.994      0.998      0.995       0.86\n",
            "\n",
            "      Epoch    GPU_mem   box_loss   obj_loss   cls_loss  Instances       Size\n",
            "      34/49      1.72G    0.01834    0.00335     0.0027         13        416: 100% 909/909 [02:13<00:00,  6.81it/s]\n",
            "                 Class     Images  Instances          P          R      mAP50   mAP50-95: 100% 43/43 [00:08<00:00,  4.80it/s]\n",
            "                   all       1360       1398      0.993      0.997      0.994      0.856\n",
            "\n",
            "      Epoch    GPU_mem   box_loss   obj_loss   cls_loss  Instances       Size\n",
            "      35/49      1.72G    0.01798   0.003347     0.0027         16        416: 100% 909/909 [02:16<00:00,  6.64it/s]\n",
            "                 Class     Images  Instances          P          R      mAP50   mAP50-95: 100% 43/43 [00:09<00:00,  4.33it/s]\n",
            "                   all       1360       1398      0.994      0.998      0.995      0.862\n",
            "\n",
            "      Epoch    GPU_mem   box_loss   obj_loss   cls_loss  Instances       Size\n",
            "      36/49      1.72G    0.01789   0.003353   0.002602         15        416: 100% 909/909 [02:18<00:00,  6.59it/s]\n",
            "                 Class     Images  Instances          P          R      mAP50   mAP50-95: 100% 43/43 [00:08<00:00,  5.05it/s]\n",
            "                   all       1360       1398      0.994      0.998      0.995      0.863\n",
            "\n",
            "      Epoch    GPU_mem   box_loss   obj_loss   cls_loss  Instances       Size\n",
            "      37/49      1.72G    0.01774   0.003322   0.002534         14        416: 100% 909/909 [02:18<00:00,  6.55it/s]\n",
            "                 Class     Images  Instances          P          R      mAP50   mAP50-95: 100% 43/43 [00:09<00:00,  4.33it/s]\n",
            "                   all       1360       1398      0.994      0.998      0.995      0.863\n",
            "\n",
            "      Epoch    GPU_mem   box_loss   obj_loss   cls_loss  Instances       Size\n",
            "      38/49      1.72G    0.01715   0.003263   0.002389         16        416: 100% 909/909 [02:15<00:00,  6.69it/s]\n",
            "                 Class     Images  Instances          P          R      mAP50   mAP50-95: 100% 43/43 [00:09<00:00,  4.73it/s]\n",
            "                   all       1360       1398      0.994      0.998      0.995      0.865\n",
            "\n",
            "      Epoch    GPU_mem   box_loss   obj_loss   cls_loss  Instances       Size\n",
            "      39/49      1.72G    0.01708   0.003223   0.002284         17        416: 100% 909/909 [02:13<00:00,  6.79it/s]\n",
            "                 Class     Images  Instances          P          R      mAP50   mAP50-95: 100% 43/43 [00:10<00:00,  4.25it/s]\n",
            "                   all       1360       1398      0.994      0.998      0.995      0.866\n",
            "\n",
            "      Epoch    GPU_mem   box_loss   obj_loss   cls_loss  Instances       Size\n",
            "      40/49      1.72G    0.01689   0.003213    0.00222         14        416: 100% 909/909 [02:13<00:00,  6.78it/s]\n",
            "                 Class     Images  Instances          P          R      mAP50   mAP50-95: 100% 43/43 [00:08<00:00,  5.14it/s]\n",
            "                   all       1360       1398      0.994      0.998      0.995      0.867\n",
            "\n",
            "      Epoch    GPU_mem   box_loss   obj_loss   cls_loss  Instances       Size\n",
            "      41/49      1.72G    0.01663   0.003183   0.002151         14        416: 100% 909/909 [02:12<00:00,  6.84it/s]\n",
            "                 Class     Images  Instances          P          R      mAP50   mAP50-95: 100% 43/43 [00:09<00:00,  4.45it/s]\n",
            "                   all       1360       1398      0.994      0.998      0.995      0.868\n",
            "\n",
            "      Epoch    GPU_mem   box_loss   obj_loss   cls_loss  Instances       Size\n",
            "      42/49      1.72G    0.01643   0.003142   0.002157         13        416: 100% 909/909 [02:11<00:00,  6.93it/s]\n",
            "                 Class     Images  Instances          P          R      mAP50   mAP50-95: 100% 43/43 [00:09<00:00,  4.56it/s]\n",
            "                   all       1360       1398      0.994      0.998      0.995      0.869\n",
            "\n",
            "      Epoch    GPU_mem   box_loss   obj_loss   cls_loss  Instances       Size\n",
            "      43/49      1.72G    0.01614   0.003119   0.001986         24        416: 100% 909/909 [02:13<00:00,  6.82it/s]\n",
            "                 Class     Images  Instances          P          R      mAP50   mAP50-95: 100% 43/43 [00:08<00:00,  5.01it/s]\n",
            "                   all       1360       1398      0.993      0.998      0.995       0.87\n",
            "\n",
            "      Epoch    GPU_mem   box_loss   obj_loss   cls_loss  Instances       Size\n",
            "      44/49      1.72G    0.01589    0.00308   0.001882         23        416: 100% 909/909 [02:13<00:00,  6.83it/s]\n",
            "                 Class     Images  Instances          P          R      mAP50   mAP50-95: 100% 43/43 [00:09<00:00,  4.46it/s]\n",
            "                   all       1360       1398      0.994      0.998      0.995      0.871\n",
            "\n",
            "      Epoch    GPU_mem   box_loss   obj_loss   cls_loss  Instances       Size\n",
            "      45/49      1.72G    0.01588   0.003103   0.001983          8        416: 100% 909/909 [02:12<00:00,  6.86it/s]\n",
            "                 Class     Images  Instances          P          R      mAP50   mAP50-95: 100% 43/43 [00:09<00:00,  4.56it/s]\n",
            "                   all       1360       1398      0.994      0.999      0.995       0.87\n",
            "\n",
            "      Epoch    GPU_mem   box_loss   obj_loss   cls_loss  Instances       Size\n",
            "      46/49      1.72G     0.0156   0.003079   0.001753         25        416: 100% 909/909 [02:13<00:00,  6.80it/s]\n",
            "                 Class     Images  Instances          P          R      mAP50   mAP50-95: 100% 43/43 [00:08<00:00,  5.03it/s]\n",
            "                   all       1360       1398      0.993      0.998      0.995      0.869\n",
            "\n",
            "      Epoch    GPU_mem   box_loss   obj_loss   cls_loss  Instances       Size\n",
            "      47/49      1.72G     0.0154    0.00304   0.001761         16        416: 100% 909/909 [02:13<00:00,  6.83it/s]\n",
            "                 Class     Images  Instances          P          R      mAP50   mAP50-95: 100% 43/43 [00:09<00:00,  4.47it/s]\n",
            "                   all       1360       1398      0.993      0.998      0.995      0.869\n",
            "\n",
            "      Epoch    GPU_mem   box_loss   obj_loss   cls_loss  Instances       Size\n",
            "      48/49      1.72G    0.01503   0.003005    0.00162         19        416: 100% 909/909 [02:15<00:00,  6.70it/s]\n",
            "                 Class     Images  Instances          P          R      mAP50   mAP50-95: 100% 43/43 [00:08<00:00,  5.04it/s]\n",
            "                   all       1360       1398      0.993      0.998      0.995      0.871\n",
            "\n",
            "      Epoch    GPU_mem   box_loss   obj_loss   cls_loss  Instances       Size\n",
            "      49/49      1.72G    0.01484   0.002932   0.001612         13        416: 100% 909/909 [02:14<00:00,  6.77it/s]\n",
            "                 Class     Images  Instances          P          R      mAP50   mAP50-95: 100% 43/43 [00:09<00:00,  4.45it/s]\n",
            "                   all       1360       1398      0.994      0.997      0.995      0.872\n",
            "\n",
            "50 epochs completed in 1.990 hours.\n",
            "Optimizer stripped from runs/train/exp/weights/last.pt, 14.4MB\n",
            "Optimizer stripped from runs/train/exp/weights/best.pt, 14.4MB\n",
            "\n",
            "Validating runs/train/exp/weights/best.pt...\n",
            "Fusing layers... \n",
            "Model summary: 157 layers, 7093732 parameters, 0 gradients, 16.0 GFLOPs\n",
            "                 Class     Images  Instances          P          R      mAP50   mAP50-95: 100% 43/43 [00:12<00:00,  3.45it/s]\n",
            "                   all       1360       1398      0.994      0.997      0.995      0.873\n",
            "                    11       1360         31      0.993          1      0.995      0.865\n",
            "                    12       1360         30      0.995          1      0.995      0.898\n",
            "                    13       1360         30      0.994          1      0.995      0.916\n",
            "                    14       1360         31      0.997          1      0.995      0.926\n",
            "                    15       1360         31      0.998          1      0.995      0.939\n",
            "                    16       1360         31      0.993          1      0.995      0.981\n",
            "                    17       1360         30      0.994          1      0.995      0.945\n",
            "                    18       1360         31          1       0.95      0.995       0.88\n",
            "                    19       1360         31      0.996          1      0.995      0.886\n",
            "                    20       1360         31      0.999          1      0.995       0.79\n",
            "                    21       1360         31      0.991          1      0.995      0.793\n",
            "                    22       1360         33      0.994          1      0.995      0.859\n",
            "                    23       1360         51      0.996          1      0.995      0.891\n",
            "                    24       1360         32      0.995          1      0.995      0.923\n",
            "                    25       1360         30      0.996          1      0.995      0.723\n",
            "                    26       1360         30      0.994          1      0.995      0.911\n",
            "                    27       1360         30      0.994          1      0.995      0.938\n",
            "                    28       1360         30          1          1      0.995      0.844\n",
            "                    29       1360         31      0.998          1      0.995      0.846\n",
            "                    30       1360         31      0.995          1      0.995      0.748\n",
            "                    31       1360         30      0.997          1      0.995      0.701\n",
            "                    32       1360         29      0.994          1      0.995      0.946\n",
            "                    33       1360         30      0.994          1      0.995      0.946\n",
            "                    34       1360         30      0.995          1      0.995       0.94\n",
            "                    35       1360         30      0.993          1      0.995      0.922\n",
            "                    36       1360         30      0.996          1      0.995      0.744\n",
            "                    37       1360         30      0.995          1      0.995      0.777\n",
            "                    38       1360        180      0.993      0.994      0.995       0.89\n",
            "                    39       1360        184      0.998          1      0.995      0.891\n",
            "                    40       1360         30      0.974          1      0.995      0.948\n",
            "                    99       1360        159      0.973      0.975      0.984      0.843\n",
            "Results saved to \u001b[1mruns/train/exp\u001b[0m\n"
          ]
        }
      ],
      "source": [
        "#!python train.py --img 640 --epochs 50 --batch 32 --data data.yaml --weights yolov5s.pt --cache --hyp custom-hyp.yaml\n",
        "!python train.py --img 416 --epochs 50 --batch 16 --data data.yaml --weights yolov5s.pt --cache --hyp custom-hyp.yaml"
      ]
    },
    {
      "cell_type": "code",
      "execution_count": 13,
      "metadata": {
        "colab": {
          "base_uri": "https://localhost:8080/",
          "height": 17
        },
        "id": "7BVYtBRP9c5w",
        "outputId": "ceb615d8-322f-4e18-8bfe-cc1a6bac4c55"
      },
      "outputs": [
        {
          "output_type": "display_data",
          "data": {
            "text/plain": [
              "<IPython.core.display.Javascript object>"
            ],
            "application/javascript": [
              "\n",
              "    async function download(id, filename, size) {\n",
              "      if (!google.colab.kernel.accessAllowed) {\n",
              "        return;\n",
              "      }\n",
              "      const div = document.createElement('div');\n",
              "      const label = document.createElement('label');\n",
              "      label.textContent = `Downloading \"${filename}\": `;\n",
              "      div.appendChild(label);\n",
              "      const progress = document.createElement('progress');\n",
              "      progress.max = size;\n",
              "      div.appendChild(progress);\n",
              "      document.body.appendChild(div);\n",
              "\n",
              "      const buffers = [];\n",
              "      let downloaded = 0;\n",
              "\n",
              "      const channel = await google.colab.kernel.comms.open(id);\n",
              "      // Send a message to notify the kernel that we're ready.\n",
              "      channel.send({})\n",
              "\n",
              "      for await (const message of channel.messages) {\n",
              "        // Send a message to notify the kernel that we're ready.\n",
              "        channel.send({})\n",
              "        if (message.buffers) {\n",
              "          for (const buffer of message.buffers) {\n",
              "            buffers.push(buffer);\n",
              "            downloaded += buffer.byteLength;\n",
              "            progress.value = downloaded;\n",
              "          }\n",
              "        }\n",
              "      }\n",
              "      const blob = new Blob(buffers, {type: 'application/binary'});\n",
              "      const a = document.createElement('a');\n",
              "      a.href = window.URL.createObjectURL(blob);\n",
              "      a.download = filename;\n",
              "      div.appendChild(a);\n",
              "      a.click();\n",
              "      div.remove();\n",
              "    }\n",
              "  "
            ]
          },
          "metadata": {}
        },
        {
          "output_type": "display_data",
          "data": {
            "text/plain": [
              "<IPython.core.display.Javascript object>"
            ],
            "application/javascript": [
              "download(\"download_7367bc05-88ec-481e-ace6-8eacf7c5bd72\", \"best.pt\", 14430461)"
            ]
          },
          "metadata": {}
        }
      ],
      "source": [
        "#export your model's weights for future use\n",
        "from google.colab import files\n",
        "files.download('./runs/train/exp/weights/best.pt')"
      ]
    },
    {
      "cell_type": "markdown",
      "metadata": {
        "id": "CIFc8id78bLP"
      },
      "source": [
        "# Run inference test"
      ]
    },
    {
      "cell_type": "code",
      "execution_count": null,
      "metadata": {
        "colab": {
          "base_uri": "https://localhost:8080/"
        },
        "id": "cRR0OTya8c8j",
        "outputId": "dc8ef4d4-5ffa-4a28-d8a9-e0bf60d6bcec"
      },
      "outputs": [
        {
          "name": "stdout",
          "output_type": "stream",
          "text": [
            "\u001b[34m\u001b[1mdetect: \u001b[0mweights=['/content/drive/MyDrive/MDP/task1-shunyao-v1.pt'], source=/content/drive/MyDrive/MDP/20230830_163027.jpg, data=data/coco128.yaml, imgsz=[640, 640], conf_thres=0.1, iou_thres=0.45, max_det=1000, device=, view_img=False, save_txt=False, save_csv=False, save_conf=False, save_crop=False, nosave=False, classes=None, agnostic_nms=False, augment=False, visualize=False, update=False, project=runs/detect, name=exp, exist_ok=False, line_thickness=3, hide_labels=False, hide_conf=False, half=False, dnn=False, vid_stride=1\n",
            "YOLOv5 🚀 v7.0-215-ga6659d0 Python-3.10.12 torch-2.0.1+cu118 CUDA:0 (NVIDIA A100-SXM4-40GB, 40514MiB)\n",
            "\n",
            "Fusing layers... \n",
            "Model summary: 157 layers, 7093732 parameters, 0 gradients, 16.0 GFLOPs\n",
            "image 1/1 /content/drive/MyDrive/MDP/20230830_163027.jpg: 640x288 1 11, 1 38, 1 39, 2 99s, 90.9ms\n",
            "Speed: 0.6ms pre-process, 90.9ms inference, 107.0ms NMS per image at shape (1, 3, 640, 640)\n",
            "Results saved to \u001b[1mruns/detect/exp4\u001b[0m\n"
          ]
        }
      ],
      "source": [
        "!python detect.py --weights /content/drive/MyDrive/MDP/task1-shunyao-v1.pt --conf 0.1 --source /content/drive/MyDrive/MDP/20230830_163027.jpg"
      ]
    },
    {
      "cell_type": "code",
      "execution_count": 14,
      "metadata": {
        "colab": {
          "base_uri": "https://localhost:8080/",
          "height": 402
        },
        "id": "eZEcittpxLgT",
        "outputId": "e6dcaac0-ad46-4639-f8a8-48be57e1cd1e"
      },
      "outputs": [
        {
          "output_type": "error",
          "ename": "FileNotFoundError",
          "evalue": "ignored",
          "traceback": [
            "\u001b[0;31m---------------------------------------------------------------------------\u001b[0m",
            "\u001b[0;31mFileNotFoundError\u001b[0m                         Traceback (most recent call last)",
            "\u001b[0;32m<ipython-input-14-109c946bc953>\u001b[0m in \u001b[0;36m<cell line: 7>\u001b[0;34m()\u001b[0m\n\u001b[1;32m      5\u001b[0m \u001b[0;31m# Load the image\u001b[0m\u001b[0;34m\u001b[0m\u001b[0;34m\u001b[0m\u001b[0m\n\u001b[1;32m      6\u001b[0m \u001b[0mimage_path\u001b[0m \u001b[0;34m=\u001b[0m \u001b[0;34m'runs/detect/exp/20230830_163027.jpg'\u001b[0m\u001b[0;34m\u001b[0m\u001b[0;34m\u001b[0m\u001b[0m\n\u001b[0;32m----> 7\u001b[0;31m \u001b[0mimg\u001b[0m \u001b[0;34m=\u001b[0m \u001b[0mmpimg\u001b[0m\u001b[0;34m.\u001b[0m\u001b[0mimread\u001b[0m\u001b[0;34m(\u001b[0m\u001b[0mimage_path\u001b[0m\u001b[0;34m)\u001b[0m\u001b[0;34m\u001b[0m\u001b[0;34m\u001b[0m\u001b[0m\n\u001b[0m\u001b[1;32m      8\u001b[0m \u001b[0;34m\u001b[0m\u001b[0m\n\u001b[1;32m      9\u001b[0m \u001b[0;31m# Display the image\u001b[0m\u001b[0;34m\u001b[0m\u001b[0;34m\u001b[0m\u001b[0m\n",
            "\u001b[0;32m/usr/local/lib/python3.10/dist-packages/matplotlib/image.py\u001b[0m in \u001b[0;36mimread\u001b[0;34m(fname, format)\u001b[0m\n\u001b[1;32m   1561\u001b[0m             \u001b[0;34m\"``np.array(PIL.Image.open(urllib.request.urlopen(url)))``.\"\u001b[0m\u001b[0;34m\u001b[0m\u001b[0;34m\u001b[0m\u001b[0m\n\u001b[1;32m   1562\u001b[0m             )\n\u001b[0;32m-> 1563\u001b[0;31m     \u001b[0;32mwith\u001b[0m \u001b[0mimg_open\u001b[0m\u001b[0;34m(\u001b[0m\u001b[0mfname\u001b[0m\u001b[0;34m)\u001b[0m \u001b[0;32mas\u001b[0m \u001b[0mimage\u001b[0m\u001b[0;34m:\u001b[0m\u001b[0;34m\u001b[0m\u001b[0;34m\u001b[0m\u001b[0m\n\u001b[0m\u001b[1;32m   1564\u001b[0m         return (_pil_png_to_float_array(image)\n\u001b[1;32m   1565\u001b[0m                 \u001b[0;32mif\u001b[0m \u001b[0misinstance\u001b[0m\u001b[0;34m(\u001b[0m\u001b[0mimage\u001b[0m\u001b[0;34m,\u001b[0m \u001b[0mPIL\u001b[0m\u001b[0;34m.\u001b[0m\u001b[0mPngImagePlugin\u001b[0m\u001b[0;34m.\u001b[0m\u001b[0mPngImageFile\u001b[0m\u001b[0;34m)\u001b[0m \u001b[0;32melse\u001b[0m\u001b[0;34m\u001b[0m\u001b[0;34m\u001b[0m\u001b[0m\n",
            "\u001b[0;32m/usr/local/lib/python3.10/dist-packages/PIL/Image.py\u001b[0m in \u001b[0;36mopen\u001b[0;34m(fp, mode, formats)\u001b[0m\n\u001b[1;32m   3225\u001b[0m \u001b[0;34m\u001b[0m\u001b[0m\n\u001b[1;32m   3226\u001b[0m     \u001b[0;32mif\u001b[0m \u001b[0mfilename\u001b[0m\u001b[0;34m:\u001b[0m\u001b[0;34m\u001b[0m\u001b[0;34m\u001b[0m\u001b[0m\n\u001b[0;32m-> 3227\u001b[0;31m         \u001b[0mfp\u001b[0m \u001b[0;34m=\u001b[0m \u001b[0mbuiltins\u001b[0m\u001b[0;34m.\u001b[0m\u001b[0mopen\u001b[0m\u001b[0;34m(\u001b[0m\u001b[0mfilename\u001b[0m\u001b[0;34m,\u001b[0m \u001b[0;34m\"rb\"\u001b[0m\u001b[0;34m)\u001b[0m\u001b[0;34m\u001b[0m\u001b[0;34m\u001b[0m\u001b[0m\n\u001b[0m\u001b[1;32m   3228\u001b[0m         \u001b[0mexclusive_fp\u001b[0m \u001b[0;34m=\u001b[0m \u001b[0;32mTrue\u001b[0m\u001b[0;34m\u001b[0m\u001b[0;34m\u001b[0m\u001b[0m\n\u001b[1;32m   3229\u001b[0m \u001b[0;34m\u001b[0m\u001b[0m\n",
            "\u001b[0;31mFileNotFoundError\u001b[0m: [Errno 2] No such file or directory: 'runs/detect/exp/20230830_163027.jpg'"
          ]
        }
      ],
      "source": [
        "# DISPLAY THE RESULT\n",
        "import matplotlib.pyplot as plt\n",
        "import matplotlib.image as mpimg\n",
        "\n",
        "# Load the image\n",
        "image_path = 'runs/detect/exp/20230830_163027.jpg'\n",
        "img = mpimg.imread(image_path)\n",
        "\n",
        "# Display the image\n",
        "plt.figure(figsize=(18, 18))  # Optional: Set the figure size\n",
        "plt.imshow(img)\n",
        "plt.axis('off')  # Optional: Hide the axis\n",
        "plt.show()"
      ]
    },
    {
      "cell_type": "code",
      "execution_count": null,
      "metadata": {
        "colab": {
          "base_uri": "https://localhost:8080/",
          "height": 17
        },
        "id": "Dc5x0b-DvqKa",
        "outputId": "d6d7449f-2a31-4d5d-faa1-50a8abb8aff4"
      },
      "outputs": [
        {
          "data": {
            "application/javascript": [
              "\n",
              "    async function download(id, filename, size) {\n",
              "      if (!google.colab.kernel.accessAllowed) {\n",
              "        return;\n",
              "      }\n",
              "      const div = document.createElement('div');\n",
              "      const label = document.createElement('label');\n",
              "      label.textContent = `Downloading \"${filename}\": `;\n",
              "      div.appendChild(label);\n",
              "      const progress = document.createElement('progress');\n",
              "      progress.max = size;\n",
              "      div.appendChild(progress);\n",
              "      document.body.appendChild(div);\n",
              "\n",
              "      const buffers = [];\n",
              "      let downloaded = 0;\n",
              "\n",
              "      const channel = await google.colab.kernel.comms.open(id);\n",
              "      // Send a message to notify the kernel that we're ready.\n",
              "      channel.send({})\n",
              "\n",
              "      for await (const message of channel.messages) {\n",
              "        // Send a message to notify the kernel that we're ready.\n",
              "        channel.send({})\n",
              "        if (message.buffers) {\n",
              "          for (const buffer of message.buffers) {\n",
              "            buffers.push(buffer);\n",
              "            downloaded += buffer.byteLength;\n",
              "            progress.value = downloaded;\n",
              "          }\n",
              "        }\n",
              "      }\n",
              "      const blob = new Blob(buffers, {type: 'application/binary'});\n",
              "      const a = document.createElement('a');\n",
              "      a.href = window.URL.createObjectURL(blob);\n",
              "      a.download = filename;\n",
              "      div.appendChild(a);\n",
              "      a.click();\n",
              "      div.remove();\n",
              "    }\n",
              "  "
            ],
            "text/plain": [
              "<IPython.core.display.Javascript object>"
            ]
          },
          "metadata": {},
          "output_type": "display_data"
        },
        {
          "data": {
            "application/javascript": [
              "download(\"download_2a448ece-a74e-4a16-8927-0c41f9ef632a\", \"20230830_163027.jpg\", 1245261)"
            ],
            "text/plain": [
              "<IPython.core.display.Javascript object>"
            ]
          },
          "metadata": {},
          "output_type": "display_data"
        }
      ],
      "source": [
        "#export img\n",
        "from google.colab import files\n",
        "files.download('runs/detect/exp5/20230830_163027.jpg')"
      ]
    },
    {
      "cell_type": "code",
      "execution_count": null,
      "metadata": {
        "id": "64eq9BWs-Qfp"
      },
      "outputs": [],
      "source": []
    }
  ],
  "metadata": {
    "accelerator": "GPU",
    "colab": {
      "machine_shape": "hm",
      "provenance": []
    },
    "kernelspec": {
      "display_name": "Python 3",
      "name": "python3"
    },
    "language_info": {
      "name": "python"
    }
  },
  "nbformat": 4,
  "nbformat_minor": 0
}